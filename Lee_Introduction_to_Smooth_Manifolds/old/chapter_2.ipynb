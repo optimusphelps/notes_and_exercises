{
 "cells": [
  {
   "attachments": {},
   "cell_type": "markdown",
   "metadata": {},
   "source": [
    "# 2-1."
   ]
  },
  {
   "attachments": {},
   "cell_type": "markdown",
   "metadata": {
    "vscode": {
     "languageId": "plaintext"
    }
   },
   "source": [
    "Define $f:\\mathbb{R}\\mapsto\\mathbb{R}$ by (Heaviside function)\n",
    "\n",
    "Show that for every $x \\in \\mathbb{R}$, there are smooth coordinate charts $(U, \\phi)$ containing $x$ and $(V, \\psi)$ containing $f(x)$ such that $\\psi \\cdot f \\cdot \\phi^{-1}$ is smooth as a map from $(\\phi(U \\cap f^{-1}(V)))$ to $\\psi(V)$ but $f$ is not smooth in the sense we have defined in this chapter."
   ]
  },
  {
   "attachments": {},
   "cell_type": "markdown",
   "metadata": {},
   "source": [
    "#### Solution\n",
    "\n",
    "For all $x \\neq 0$ this is obvious by selecting and $U$ not containing $0$, then $f_U$ is linear thus smooth.\n",
    "\n",
    "For $x=0$, we have $f(x) = 1$, so we can select the neighborhood $U = (-\\delta, \\delta)$ and the neighborhood $V = (-\\epsilon, \\epsilon)$, and let $\\phi, \\psi$ be the identity.\n",
    "\n",
    "Then $f^-1(V) = (-\\infty, 0]$ so that $U \\cap f^{-1}(V) = (-\\epsilon, 0]$ and $(\\phi \\circ f \\circ \\phi^{-1})_{U \\cap f^{-1}(V)} = 0$, so it is smooth.  However, it is not $\\phi \\circ f \\circ \\phi^{-1}$ is not smooth on the open set $U$, so is not smooth in the context defined in the chapter.\n",
    "\n",
    "As an aside, this is consistent with Propisition 2.5 because\n",
    "\n",
    "1. In condition (a), it violates the openness part of the statement.\n",
    "2. In condition (b), it violates the continuous."
   ]
  },
  {
   "attachments": {},
   "cell_type": "markdown",
   "metadata": {},
   "source": [
    "# 2-2\n",
    "\n",
    "Prove Proposition 2.12: Suppose $M_1\\times\\ldots\\times M_k$ and $$ are smooth manifolds with or without boundary, such that at most one of $M_1,\\ldots,M_k$ has nonempty boundary. For each $i$, let $pi_i:M_1\\times\\ldots\\times M_k \\mapsto M_i$ denote the projection onto the $M_i$ factor. A map $F:N \\mapsto M_1\\times\\ldots\\times M_k$ is smooth if and only if each of the component maps $F_i=\\pi_i \\circ F:N \\ Mi is smooth."
   ]
  },
  {
   "attachments": {},
   "cell_type": "markdown",
   "metadata": {},
   "source": [
    "#### Solution\n",
    "\n",
    "Observation: A function $f:\\mathbb{R}^n \\mapsto \\mathbb{R}^m$ is smooth if and only if its coordinate functions are smooth. (p. 11).\n",
    "\n",
    "$\\implies$: Trivial.\n",
    "\n",
    "$\\impliedby$: \n",
    "\n",
    "Let $p \\in N$.  By Proposition 2.5 (a), there exists smooth chart $(U_i, \\psi_i), (V_i, \\phi_i)$ such that \n",
    "\n",
    "1. $F_i(p) \\in V_i$\n",
    "2. $U_i \\cap F_i^{-1}$ is open in $N$\n",
    "3. $\\psi_i \\circ F_i \\circ \\phi_i^{-1}$ is smooth on from $\\phi_i(U_i \\cap F_i^{-1})$ to $\\psi_i(V_i)$\n",
    "\n",
    "Let $U = \\cap_i U_i$ and $V = \\Pi_i V_i$.  First observe that for each $i$\n",
    "\n",
    "a. $\\phi_i|_U = \\phi$\n",
    "\n",
    "b. $F_i|_U$ is smooth for each $i$.\n",
    "\n",
    "Then let $\\psi_i^j$ be the $j$ th coordinate map of $\\psi_i$, and note that $\\psi|_U = (\\psi_1^1,\\ldots, \\psi_k^{n_k})$ is a smooth map with $\\phi_i^j$ the coordinate functions.\n",
    "\n",
    "We then establish the following properties\n",
    "\n",
    "1. $F(p) \\in V$: clear from definition of $V$\n",
    "2. $U \\cap F^{-1}(V)$ is open in $N$: note that $F^{-1}(V) = F^{-1}(\\Pi_i V_i) = F^{-1}(\\cap_i (V_i \\times \\Pi_{j \\neq i} M_j))$\n",
    "3. $\\psi \\circ F \\circ \\phi^{-1}$\n",
    "\n",
    "By a-b above and the definition of $\\psi$\n",
    "\n",
    "$\\psi \\circ F \\circ \\phi^{-1} = (\\psi_1 \\circ F_1 \\circ \\phi_1^{-1}, \\ldots, \\psi_k \\circ F_k \\circ \\phi_k^{-1})$ is a function $mathbb{R}^n: \\mapsto \\mathbb{R}^m$, and is smooth in each coordinate, therefore it is smooth.\n",
    "\n",
    "Because 1-3 are satisfied, the statement follows from Proposition 2.5"
   ]
  },
  {
   "attachments": {},
   "cell_type": "markdown",
   "metadata": {},
   "source": [
    "# 2-3\n",
    "\n",
    "For each of the following maps between spheres, compute sufficiently many coordinate representations to prove that it is smooth.\n",
    "\n",
    "1. $p_n:\\mathbb{S}^1 \\mapsto \\mathbb{S}^1$ is the nth power map ($p_n(z) = z^n$)\n",
    "2. $\\alpha:\\mathbb{S}^n \\mapsto \\mathbb{S}^n$ is the antipodal map ($\\alpha(x) = -x$)\n",
    "3. $F:\\mathbb{S}^3 \\mapsto \\mathbb{S}^2$ is given by $F(w,z) = (z \\bar{w} + w\\bar{z}, iw\\bar{z} - iz\\bar{w}, z\\bar{z} - w \\bar{w}$)"
   ]
  },
  {
   "attachments": {},
   "cell_type": "markdown",
   "metadata": {},
   "source": [
    "# 2-4 \n",
    "\n",
    "Show that the inclusion map $\\bar{\\mathbb{B}}^n \\mapsto \\mathbb{R}^n$ is smooth when $\\bar{\\mathbb{B}}^n$ is regarded as a manifold with boundary.\n",
    "\n",
    "    TODO: Revisit manifolds with boundary"
   ]
  },
  {
   "attachments": {},
   "cell_type": "markdown",
   "metadata": {},
   "source": [
    "# 2-5\n",
    "\n",
    "Let $\\mathbb{R}$ be the real line with its standard smooth structure, and let $\\tilde{\\mathbb{R}}$ denote the same topological manifold with the smooth structure defined in Example 1.23.  Let $f:\\mathbb{R} \\mapsto \\mathbb{R} be a function that is smooth in the usual sense.\n",
    "\n",
    "1. Show that $f$ is also smooth as a map from $\\mathbb{R}$ to $\\tilde{\\mathbb{R}}$.\n",
    "2. Show that $f$ is smooth as a map from $\\tilde{\\mathbb{R}}$ to $\\mathbb{R}$ if and only if $f^(n)(0) = 0$ whenever $n$ is not an integral multiple of 3.\n",
    "\n"
   ]
  },
  {
   "attachments": {},
   "cell_type": "markdown",
   "metadata": {},
   "source": [
    "# 2-6\n",
    "\n",
    "Let $P:\\mathbb{R}^{n}\\setminus\\{0\\}\\mapsto\\mathbb{R}^{k+1}\\setminus\\{0\\}$ be a smooth function, and suppose that for some $d \\in \\mathbb{Z}, P(\\gamma x) = \\gamma^d P(x)$ for all $\\lambda \\in \\mathbb{R}\\setminus\\{0\\}$ and $x \\in \\mathbb{R}^{n}\\setminus\\{0\\}$.  Show that the map $\\tilde{P}:\\mathbb{RP}^n \\mapsto \\mathbb{RP}^k$ defined by $\\tilde([x]) = [P(x)]$ is well-defined and smooth.\n",
    "\n",
    "    TODO: revist projective space"
   ]
  },
  {
   "attachments": {},
   "cell_type": "markdown",
   "metadata": {},
   "source": [
    "# 2-7 \n",
    "\n",
    "Let $M$ be a nonempty smooth n-manifold with or without boundary, and suppose $n \\geq 1$.  Show that the vector space $C^\\infty(M)$ is infinite-dimensional."
   ]
  },
  {
   "attachments": {},
   "cell_type": "markdown",
   "metadata": {},
   "source": [
    "# 2-8\n",
    "\n",
    "Define $F:\\mathbb{R}^n \\mapsto \\mathbb{RP}^n$ by $F(x^1, \\ldots, x^n) = [x^1, \\ldots, x^n, 1]$.  Show that $F$ is a diffeomorphism onto a dense open subset of $\\mathbb{RP}^n$  Do the same for $G:\\mathbb{C}^\\mapsto\\mathbb{CP}^n$ defined by $G(z^1, \\ldots, z^n) = [z^1, \\ldots, z^n, 1]$.\n",
    "\n",
    "    TODO: revist RP"
   ]
  },
  {
   "attachments": {},
   "cell_type": "markdown",
   "metadata": {},
   "source": [
    "# 2-9\n",
    "\n",
    "See book."
   ]
  },
  {
   "attachments": {},
   "cell_type": "markdown",
   "metadata": {},
   "source": [
    "# 2-10\n",
    "\n",
    "For any topological space $M$, let $C(M)$ denote the algebra of continuous functions $f:M\\mapsto\\mathbb{R}$.  Given a continuous map $F:M\\mapsto\\mathbb{N}$, define $F^*:C(N)\\mapsto C(M)$ by $F^*(f) = f \\circ F$.\n",
    "\n",
    "1. Show that $F^*$ is a linear map.\n",
    "2. Suppose that $M$ and $N$ are smooth manifolds.  Show that $F:M\\mapsto N$ is smooth if and only if $F^*(C^\\infty(N))\\subseteq C^\\infty(M)$.\n",
    "3. Suppose $F:M\\mapsto N$ is a homeomorphism between smooth manifolds.  Show that it is a diffeomorphism if and only if $F^*$ restricts to an isomorphism from $C^\\infty(N)$ to $C^\\infty(M)$."
   ]
  },
  {
   "attachments": {},
   "cell_type": "markdown",
   "metadata": {},
   "source": [
    "# 2-11\n",
    "\n",
    "Suppose $V$ is a real vector space of dimension $n\\geq 1$.  Define the projectivization of $V$, denoted $\\mathbb{P}(V)$, to be the set of 1-dimensional linear subspaces of $V$, with the quotient topology induced by the map $\\pi:V\\setminus\\{0\\}\\mapsto \\mathbb{P}(V)$ that sends $x$ to its span.  Show that $\\mathbb{P}(V)$ is a topological $(n-1)$-submanifold, and has a unique smooth structure with the property that for each basis $(E_1, \\ldots, E_n)$ for $V$, the map $E:\\mathbb{RP}^{n-1}\\mapsto \\mathbb{P}(V)$ defined by $E[v^1,\\ldots,v^n]=[v^1E_i]$ (where brackes denote equivalence classes) is a diffeomorphism.\n",
    "\n",
    "##### 2-12 \n",
    "\n",
    "State and prove an anology of 2-11 in complex vector spaces."
   ]
  },
  {
   "attachments": {},
   "cell_type": "markdown",
   "metadata": {},
   "source": [
    "# 2-13\n",
    "\n",
    "Suppose $M$ is a topological space with the property that for every indexed open cover $\\mathcal{X}$ of $M$, there exists a partition of unity subordinate to $\\mathcal{X}$.  Show that $M$ is paracompact."
   ]
  },
  {
   "attachments": {},
   "cell_type": "markdown",
   "metadata": {},
   "source": [
    "# 2-14\n",
    "\n",
    "Suppose that $A$ and $B$ are disjoint closed subsets of a smooth manifold $M$.  Show that there exists $f \\in C^{\\infty}(M)$ such that $0 \\leq f(x) \\leq 1$ for all $x \\in M, f^{-1}(0) = A$, and $f^{-1}(1) = B$."
   ]
  },
  {
   "cell_type": "markdown",
   "metadata": {},
   "source": []
  }
 ],
 "metadata": {
  "language_info": {
   "name": "python"
  },
  "orig_nbformat": 4
 },
 "nbformat": 4,
 "nbformat_minor": 2
}