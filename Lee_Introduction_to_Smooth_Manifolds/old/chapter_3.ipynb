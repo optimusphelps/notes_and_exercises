{
 "cells": [
  {
   "attachments": {},
   "cell_type": "markdown",
   "metadata": {},
   "source": [
    "# 3-1. \n",
    "\n",
    "Suppose $M$ and $N$ are smooth manifolds with or without boundary, and $F:M \\mapsto N$ is a smooth map. Show that $dF_p : T_pM \\mapsto T_{F(p)}N$ is the zero map for each $p \\in M$ if and only if $F$ is constant on each component of $M$."
   ]
  },
  {
   "attachments": {},
   "cell_type": "markdown",
   "metadata": {},
   "source": [
    "#### Solution\n",
    "\n",
    "$\\implies$\n",
    "\n",
    "Assume $dF_p$ is the zero map, let $(U,\\phi)$ be a coordinate chart on M containing $p$ and $(V,\\psi)$ be a coordinate chart on $N$ containing $F(p)$.\n",
    "\n",
    "$\\phi^{-1} \\circ F \\circ \\psi$ is a map from $\\phi(U) \\mapsto \\phi(V)$ and $d(\\phi^{-1} \\circ F \\circ \\psi) = 0$, so $\\phi^{-1} \\circ F \\circ \\psi$ is constant on $\\phi^{-1}(U)$. Since $\\psi$ is a diffeomorphism this means $\\phi^{-1} \\circ F$ is and $\\phi^{-1}$ is a diffeomorphism this means $F$ is constant on $U\\cap V$.  Then we can use the fact that $F$ is constant on every coordinate chart $(U, \\phi)$ to determine that $F$ is constant on $M$. By the gluing lemma, there is a unique smooth map that agree with this construction on all intersections of smooth charts, therefore it is the constant map.\n",
    "\n",
    "$\\impliedby$\n",
    "\n",
    "Assume $F$ be constant and let $f \\in C^\\infty(N)$, then $dF_p(v)(f) = v(f\\circ F)$.  Note that $f \\circ F$ is constant.  Therefore by Lemma 3.4a, $v(f\\circ F) = 0$.  Since $dF_p(v)(f) = 0$ for all $f$, $dF_p(v) = 0$ for all $v \\in T_pM$ and $dF_p$ is the zero map.    "
   ]
  },
  {
   "attachments": {},
   "cell_type": "markdown",
   "metadata": {},
   "source": [
    "# 3-2.\n",
    "\n",
    "Prove Proposition 3.14 (the tangent space to a product manifold).\n",
    "\n",
    "Proposition 3.14 (The Tangent Space to a Product Manifold). Let $M_1,\\ldots,M_k$ be smooth manifolds, and for each $j$ , let $\\pi_j: M_1 \\times \\ldots \\times M_k \\mapsto M_j$ be the projection onto the $M_j$ factor. For any point $p = (p_1,\\ldots,p_k) \\in M_1 \\times \\ldots \\times M_k$, the map \n",
    "\n",
    "$\\alpha: T_P(M_1 \\times \\ldots \\times M_k) \\mapsto T_{P_1} M_1 \\oplus \\ldots \\oplus T_{p_k} M_k$\n",
    "\n",
    "defined by \n",
    "\n",
    "$\\alpha(v) = (d(\\pi_1)_p(v), \\ldots, d(\\pi_k)_p(v))$\n",
    "\n",
    "is an isomorphism."
   ]
  },
  {
   "attachments": {},
   "cell_type": "markdown",
   "metadata": {},
   "source": [
    "#### Solution\n",
    "\n"
   ]
  },
  {
   "attachments": {},
   "cell_type": "markdown",
   "metadata": {},
   "source": [
    "# 3-3. \n",
    "\n",
    "Prove that if $M$ and $N$ are smooth manifolds, then $T(M \\times N)$ is diffeomorphic to $TM \\times TN$."
   ]
  },
  {
   "attachments": {},
   "cell_type": "markdown",
   "metadata": {},
   "source": [
    "#### Solution\n",
    "\n",
    "First, by proposition 3.13 we have that for each $(p,q) \\in M \\times N, T_{(p,q)}(M\\times N) = T_pM \\oplus T_qN$.    "
   ]
  },
  {
   "attachments": {},
   "cell_type": "markdown",
   "metadata": {},
   "source": [
    "# 3-4.\n",
    "\n",
    "Show that $TS_1$ is diffeomorphic to $S_1 \\times \\mathbb{R}$."
   ]
  },
  {
   "attachments": {},
   "cell_type": "markdown",
   "metadata": {},
   "source": [
    "#### Solution"
   ]
  },
  {
   "attachments": {},
   "cell_type": "markdown",
   "metadata": {},
   "source": [
    "First, it is clear that $T\\mathbb{S}^1 = \\mathbb{S}^1 \\times \\mathbb{R}$ as a set.  Will attempt to brute force this for learning porpoises.\n",
    "\n",
    "Pick two points $a, b$ in $\\mathbb{S}^1$ and two coordinate charts $(U_{\\alpha}, \\phi_{\\alpha}), (U_{\\beta}, \\phi_{\\beta})$ where $U_\\alpha = \\mathbb{S}^1 \\setminus b, U_{\\beta} = \\mathbb{S}^1 \\setminus a, \\phi_{\\alpha}(U_{\\alpha}) = [-\\pi,\\pi), \\phi_{\\beta}(U_{\\beta}) = [0,2\\pi)$.  It is clear that this is possible by taking the normal identification of $\\mathbb{S}^1$ with the unit circle and letting $a = (1,0), b = (-1,0)$.  In addition, note that this choice satisfies the smooth manifold chart lemma.\n",
    "\n",
    "Now take the standard $(\\pi^{-1}(U_{\\alpha}), \\tilde{\\phi_{\\alpha}})$ coordinate maps.  Then $\\tilde{\\phi}_\\alpha \\circ \\tilde{\\phi}_\\beta^{-1} (x, v) = "
   ]
  },
  {
   "attachments": {},
   "cell_type": "markdown",
   "metadata": {},
   "source": [
    "# 3-5.\n",
    "\n",
    "Let $\\mathbb{S}^1 \\subset \\mathbb{R}^2$ be the unit circle, and let $K \\subset \\mathbb{R}^2$ be the boundary of the square of side 2 centered at the origin.  Show that there is a homeomorphism $F: \\mathbb{R}^2 \\mapsto \\mathbb{R}^2$ such that $F(\\mathbb{S}^1) = K$ but no diffeomorphism with the same property."
   ]
  },
  {
   "attachments": {},
   "cell_type": "markdown",
   "metadata": {},
   "source": [
    "#### Solution\n",
    "\n",
    "\n",
    "Note that $K = \\{(x,y): \\max{|x|,|y|}=1\\}$.\n",
    "\n",
    "Let $G:\\mathbb{R}^2 \\setminus 0 \\mapsto \\mathbb{R}^2 \\setminus 0$ st $G(x,y) = \\frac{x^2+y^2}{\\max{|x|, |y|}}$ and let $F(x,y) = \\begin{cases}(x\\cdot G(x,y), y\\cdot G(x,y))& (x,y) \\neq (0,0)\\\\ 0& \\textrm{otherwise}\\end{cases}$.\n",
    "\n",
    "Then on the unit circle \n",
    "\\begin{align*}\n",
    "F(x,y) = \n",
    "\\begin{cases} \n",
    "(\\frac{x}{|x|},\\frac{y}{|x|}) & \\, |x| >= |y|\\\\\n",
    "(\\frac{x}{|y|},\\frac{y}{|y|}) & \\, |x| < |y|\n",
    "\\end{cases}\n",
    "\\end{align*}\n",
    "So that $F(\\mathbb{S}^1) = K$.  Proof that this is a homeomorphism is omitted, but basically divide plane on lines $y = x$ and $y = -x$, it is a homeomorphism on each, and stitch back together.  Then observe that $\\lim_{x\\to 0,y \\to 0} F(x,y) = 0$.\n",
    "\n",
    "To show that there is no diffeomorpishm, consider a smooth curve $\\gamma:J \\mapsto \\mathbb{S}^1$.  Suppose that such a diffeomorphism F exists, and let $t_0 \\in J$ s.t. $F(\\gamma(t_0)) = (1,1)$.\n",
    "\n",
    "\n",
    "---\n",
    "\n",
    "\n",
    "**we need a way to show that t < t0 is on one leg and t0 > j is on the other**\n",
    "\n",
    "Do the normal thing of identifying $\\gamma \\circ \\iota = \\gamma$.\n",
    "\n",
    "Then $F \\circ \\gamma$ is a diffeomorphism so that $dF \\circ d\\gamma:TJ \\to \\mathbb{R}^2$.  Taking a limit from $t < t_0$ and $t > t_0$ shows that this map cannot even be continuous.\n"
   ]
  },
  {
   "attachments": {},
   "cell_type": "markdown",
   "metadata": {},
   "source": [
    "# 3-6 \n",
    "\n",
    "Consider $\\mathbb{S}^3$ as the unit sphere in $\\mathbb{C}^2$ under the usual identification.  For each $z = (z^1, z^2) \\in \\mathbb{S}^3$, define a curve $\\gamma_z:\\mathbb{R} \\mapsto \\mathbb{S}^3$ by $\\gamma_z = e^{it}z^1, e^{it} z^2)$.  Show that $\\gamma_z$ is a smooth curve whose velocity is never zero."
   ]
  },
  {
   "attachments": {},
   "cell_type": "markdown",
   "metadata": {},
   "source": [
    "#### Solution"
   ]
  },
  {
   "attachments": {},
   "cell_type": "markdown",
   "metadata": {},
   "source": [
    "# 3-7 \n",
    "\n",
    "Let $M$ be a smooth manifold with or without boundary and $p$ be a point of $M$.  Let $C^\\infty_p(M)$ denote the algebra of germs of smooth real-valued functions at $p$, and let $\\mathcal{D}_pM$ denote the vector space of derivations of $C_p^\\infty(M)$.  Define a map $\\Phi:\\mathcal{D}_p M\\mapsto T_p M$ by $(\\Phi v)f = v([f]_p)$.  Show that $\\Phi$ is an isomorphism."
   ]
  },
  {
   "attachments": {},
   "cell_type": "markdown",
   "metadata": {},
   "source": [
    "#### Solution"
   ]
  },
  {
   "attachments": {},
   "cell_type": "markdown",
   "metadata": {},
   "source": [
    "# 3-8\n",
    "\n",
    "Let M be a smooth manifold with or without boundary and $p \\in M$.  Let $\\mathcal{V}_p M$ denote the set of equivalence classes of smooth curves starting at $p$ under the relation $\\gamma_1 = \\gamma_2$ if $(f \\circ \\gamma)'(0) = (f \\circ \\gamma_2)'(0)$ for every smooth real valued function $f$ defined in a neighborhood of $p$. Show that the map $\\Psi:\\mathcal{V}_pM \\mapsto T_pM$ defined by $\\Psi[\\gamma] = \\gamma'(0)$ is well-defined and bijective."
   ]
  },
  {
   "attachments": {},
   "cell_type": "markdown",
   "metadata": {},
   "source": [
    "#### Solution"
   ]
  },
  {
   "cell_type": "markdown",
   "metadata": {},
   "source": []
  }
 ],
 "metadata": {
  "language_info": {
   "name": "python"
  },
  "orig_nbformat": 4
 },
 "nbformat": 4,
 "nbformat_minor": 2
}