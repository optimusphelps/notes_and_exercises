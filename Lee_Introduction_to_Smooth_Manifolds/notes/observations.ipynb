{
 "cells": [
  {
   "attachments": {},
   "cell_type": "markdown",
   "metadata": {},
   "source": [
    "# Big picture\n",
    "\n",
    "### Goal is to move to a coordinate-independent representation of calculus and geometry\n",
    "### To do this, I need to be able to define\n",
    "1. A space in which to represent the system\n",
    "2. A way to map points in this space to coordinates (smooth structure)\n",
    "3. In general, we can't expect that smooth structure is global because we want to study spaces with different geometry than $\\mathbb{R}^n$\n",
    "4. This means we likely have many, overlapping coordinate charts\n",
    "### Computation\n",
    "4. We can always compute by mapping to coordinates, doing the calculation in $\\mathbb{R}^n$, and mapping back\n",
    "5. Any calculation done has to agree on every coodinate chart\n",
    "6. This motivates us to use definitions that are independent of the chart, but agree with the definition on $\\mathbb{R}^n$ when mapped to coordinates"
   ]
  },
  {
   "cell_type": "markdown",
   "metadata": {},
   "source": []
  }
 ],
 "metadata": {
  "language_info": {
   "name": "python"
  },
  "orig_nbformat": 4
 },
 "nbformat": 4,
 "nbformat_minor": 2
}