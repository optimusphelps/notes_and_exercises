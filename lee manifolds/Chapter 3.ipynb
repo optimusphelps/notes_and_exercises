{
 "cells": [
  {
   "cell_type": "markdown",
   "metadata": {},
   "source": [
    "# Notes  \n",
    "## Lee chapter 3"
   ]
  },
  {
   "attachments": {},
   "cell_type": "markdown",
   "metadata": {},
   "source": [
    "##### Tangent Vector\n",
    "\n",
    "construction of tangent spaces\n",
    "\n",
    "subscripts are 'evaluation at' unless they are an index\n",
    "\n",
    "Derivations are linear maps that satisfy the product rule.\n",
    "\n",
    "1. directional derivatives (in r^n) are derivations\n",
    "2. the set of all derivations is a finite dimensional vector space (surprising)\n",
    "3. the set of all derivations is isometry to directional derivatives\n",
    "4. we can define tangent space to be set of all derivations without referencing extrinisic geometry\n",
    "\n",
    "5. d/dx rate at which function changes w.r.t. change in x\n",
    "6. dx unit (or unit rate-of-change) measurement in direction of x\n",
    "\n",
    "7. tangent space <==> tangent vectors of curve in coordinate chart\n",
    "8. smooth map <==> diffeomorphism between coordinate charts (locally)\n",
    "9. differential is linear map between tangent spaces\n",
    "  a. thus it can be interpretted as mapping tangent vectors of curves\n",
    "  b. you do not need to make reference to curves or local charts\n",
    "  c. can do calculation / definition ONLY using differential conception\n",
    "\n",
    "\n",
    "------\n",
    "\n",
    "at this point, everything is still local to P\n",
    "\n",
    "\n",
    "##### Tangent Bundle\n",
    "\n",
    "As a set: simply a disjoint union over all tangent spaces $T_p, p \\in M$.\n",
    "\n",
    "Comes with a projection map $\\pi: TM \\mapsto M$ which such that $\\pi(p,v) = p$.\n",
    "\n",
    "$(p,v), v_p, v$ can all be notation for a vector in $T_pM$, depending on how much emphasis to give $p$.\n",
    "\n",
    "Can be given a smooth structure to make it a $2n-$ dimensional smooth manifold with a smooth projection map.\n",
    "\n",
    "Similarly, if $F:M \\mapsto N$ is smooth, then $dF:TM \\mapsto TN$ is smooth.\n",
    "\n",
    "If $M$ can be covered with a single smooth chart, then $TM$ is diffeomorphic to $M \\times \\mathbb{R}^n$\n",
    "\n",
    "Be warned, however, that in general the tangent bundle of a smooth manifold cannot be identified in any natural way with a Cartesian product, because there is no canonical way to identify tangent spaces at different points with each other. We will have more to say about this below.\n",
    "\n",
    "###### Constructing smooth structure"
   ]
  },
  {
   "cell_type": "markdown",
   "metadata": {},
   "source": [
    "# Lee notation"
   ]
  },
  {
   "cell_type": "markdown",
   "metadata": {},
   "source": [
    "First, suppose $M$ is a smooth manifold and let $(U, \\phi)$ be a smooth coordinate chart on $M$.\n",
    "\n",
    "Therefore \n",
    "\n",
    "1. $\\phi$ is a diffeomorphism from $U$ to $\\hat{U} \\subseteq \\mathbb{R}^n$\n",
    "2. $d \\phi_p: T_p^M \\mapsto T_{\\phi(p)} \\mathbb{R}^n$ is an isomorphism (note $T_p$ is tangent space to $M$ at $p$.\n",
    "3. The derivations $\\frac{\\partial}{\\partial x^1}|_{\\phi(p)}\\ldots$ form a basis for $T_{\\phi(p)} \\mathbb{R}^n$.  (note, these are in $\\mathbb{R}^n$ so canonically defined\n",
    "4. Using the diffeomorphism / isomorphism from 1-2 we canonically map these back to $U$.\n",
    "\n",
    "Finally, $\\frac{\\partial}{\\partial x^i}|_p$ acts on a function $f \\in C^\\infty(U)$. by\n",
    "\n",
    "\\begin{align*}\n",
    "\\frac{\\partial}{\\partial x^i}|_p f \n",
    "= & \\, \\frac{\\partial}{\\partial x^i}|_{\\phi(p)} (f \\circ \\phi_{-1}) \\\\\n",
    "= & \\, \\frac{\\partial \\hat{f}}{\\partial x^i}(\\hat{p})\n",
    "\\end{align*}\n",
    "\n",
    "Here $\\hat{f} = f \\circ \\phi^{-1}$ is the coordinate representation of $f$ and $\\hat{p} = (p^1, \\ldots, p^n) = \\phi(p)$ is the coordinate representation of $p$.\n",
    "\n",
    "Note that I can also write $\\phi(p) = (x^1(p), \\ldots, x^i(p), \\ldots) = (x^i(p))$.\n",
    "\n",
    "One important thing to keep in mind is that each coordinate vector $\\frac{\\partial}{\\partial x^i}|_p$ depends on the entire *coordinate system* and not just the single coordinate function. (see exercise 3.17, p.65)"
   ]
  },
  {
   "cell_type": "markdown",
   "metadata": {},
   "source": [
    "# Problems"
   ]
  },
  {
   "cell_type": "markdown",
   "metadata": {},
   "source": [
    "### 1.\n",
    "\n",
    "$dF_p: T_pM \\mapsto T_{F(p)}N$ is the zero map iff F is constant.\n",
    "\n",
    "$\\implies$\n",
    "\n",
    "Assume $dF_p$ is the zero map, let $(U,\\phi)$ be a coordinate chart on M containing $p$ and $(V,\\psi)$ be a coordinate chart on $N$ containing $F(p)$.\n",
    "\n",
    "Then $d(\\phi^{-1} \\circ F \\circ \\psi) = 0$.  Choosing a basis $(x^i)$ for $U$ and $y^j$ for $V$, we have $\\frac{\\partial y_i}{\\partial x_j}$ for all $i,j$ so that $\\phi^{-1} \\circ F \\circ \\psi$ is constant by vector calculus things without any manifold things.  Since $\\psi$ is a diffeomorphism this means $\\phi^{-1} \\circ F$ is constant.  Since $\\phi^{-1}$ is a diffeomorphism this means $F$ is constant.  Then we can use the fact that $F$ is constant on every coordinate chart $(U, \\phi)$ to determine that $F$ is constant on $M$ by appropriate pasting things.\n",
    "\n",
    "    TODO: fill in details about isometries, etc. from Proposition 3.6.  Figure out whether reference to coordinates is necessary, i.e. fix 'constant by vector calculus things without manifold things'.\n",
    "\n",
    "\n",
    "$\\impliedby$\n",
    "\n",
    "Assume $F$ be constant and let $f \\in C^\\infty(N)$, then $dF_p(v)(f) = v(f\\circ F)$.  Note that $f \\circ F$ is constant.  Therefore by Lemma 3.4a, $v(f\\circ F) = 0$.  Since $dF_p(v)(f) = 0$ for all $f$, $dF_p(v) = 0$ for all $v \\in T_pM$ and $dF_p$ is the zero map.\n",
    "\n"
   ]
  },
  {
   "cell_type": "markdown",
   "metadata": {},
   "source": [
    "### 2.\n",
    "\n",
    "Prove Proposition 3.13: Tangent space to a product space is a direct sum of tangent spaces.\n",
    "\n",
    "### 3.\n",
    "\n",
    "Prove that if $M$ and $N$ are smooth manifolds, then $T (M\\times N)$ is diffeomorphic to $TM \\times TN$.\n",
    "\n",
    "---\n",
    "\n",
    "First, by proposition 3.13 we have that for each $(p,q) \\in M \\times N, T_{(p,q)}(M\\times N) = T_pM \\oplus T_qN$."
   ]
  },
  {
   "cell_type": "markdown",
   "metadata": {},
   "source": [
    "### 4.\n",
    "\n",
    "Show that $T\\mathbb{S}^1$ is diffeomorphic to $\\mathbb{S}^1 \\times \\mathbb{R}$.\n",
    "\n",
    "-----"
   ]
  },
  {
   "cell_type": "markdown",
   "metadata": {},
   "source": [
    "First, it is clear that $T\\mathbb{S}^1 = \\mathbb{S}^1 \\times \\mathbb{R}$ as a set.  Will attempt to brute force this for learning porpoises.\n",
    "\n",
    "Pick two points $a, b$ in $\\mathbb{S}^1$ and two coordinate charts $(U_{\\alpha}, \\phi_{\\alpha}), (U_{\\beta}, \\phi_{\\beta})$ where $U_\\alpha = \\mathbb{S}^1 \\setminus b, U_{\\beta} = \\mathbb{S}^1 \\setminus a, \\phi_{\\alpha}(U_{\\alpha}) = [-\\pi,\\pi), \\phi_{\\beta}(U_{\\beta}) = [0,2\\pi)$.  It is clear that this is possible by taking the normal identification of $\\mathbb{S}^1$ with the unit circle and letting $a = (1,0), b = (-1,0)$.  In addition, note that this choice satisfies the smooth manifold chart lemma.\n",
    "\n",
    "Now take the standard $(\\pi^{-1}(U_{\\alpha}), \\tilde{\\phi_{\\alpha}})$ coordinate maps.  Then $\\tilde{\\phi}_\\alpha \\circ \\tilde{\\phi}_\\beta^{-1} (x, v) = \n",
    "\n"
   ]
  },
  {
   "cell_type": "markdown",
   "metadata": {},
   "source": [
    "### 5.\n",
    "\n",
    "Let $\\mathbb{S}^1 \\subset \\mathbb{R}^2$ be the unit circle, and let $K \\subset \\mathbb{R}^2$ be the boundary of the square of side 2 centered at the origin.  Show that there is a homeomorphism $F: \\mathbb{R}^2 \\mapsto \\mathbb{R}^2$ such that $F(\\mathbb{S}^1) = K$ but no diffeomorphism with the same property.\n",
    "\n",
    "---\n",
    "\n",
    "\n",
    "Note that $K = \\{(x,y): \\max{|x|,|y|}=1\\}.\n",
    "\n",
    "Let $G:\\mathbb{R}^2 \\setminus 0 \\mapsto \\mathbb{R}^2 \\setminus 0$ st $G(x,y) = \\frac{x^2+y^2}{\\max{|x|, |y|}}$ and let $F(x,y) = \\begin{cases}(x\\cdot G(x,y), y\\cdot G(x,y))& (x,y) \\neq (0,0)\\\\ 0& \\textrm{otherwise}\\end{cases}$.\n",
    "\n",
    "Then on the unit circle \n",
    "\\begin{align*}\n",
    "F(x,y) = \n",
    "\\begin{cases} \n",
    "(\\frac{x}{|x|},\\frac{y}{|x|}) & \\, |x| >= |y|\\\\\n",
    "(\\frac{x}{|y|},\\frac{y}{|y|}) & \\, |x| < |y|\n",
    "\\end{cases}\n",
    "\\end{align*}\n",
    "So that $F(\\mathbb{S}^1) = K$.  Proof that this is a homeomorphism is omitted, but basically divide plane on lines $y = x$ and $y = -x$, it is a homeomorphism on each, and stitch back together.  Then observe that $\\lim_{x\\to 0,y \\to 0} F(x,y) = 0$.\n",
    "\n",
    "To show that there is no diffeomorpishm, consider a smooth curve $\\gamma:J \\mapsto \\mathbb{S}^1$.  Suppose that such a diffeomorphism F exists, and let $t_0 \\in J$ s.t. $F(\\gamma(t_0)) = (1,1)$.\n",
    "\n",
    "**we need a way to show that t < t0 is on one leg and t0 > j is on the other**\n",
    "\n",
    "Do the normal thing of identifying $\\gamma \\circ \\iota = \\gamma$.\n",
    "\n",
    "Then $F \\circ \\gamma$ is a diffeomorphism so that $dF \\circ d\\gamma:TJ \\to \\mathbb{R}^2$.  Taking a limit from $t < t_0$ and $t > t_0$ shows that this map cannot even be continuous."
   ]
  },
  {
   "cell_type": "code",
   "execution_count": null,
   "metadata": {},
   "outputs": [],
   "source": []
  },
  {
   "cell_type": "code",
   "execution_count": null,
   "metadata": {},
   "outputs": [],
   "source": []
  }
 ],
 "metadata": {
  "kernelspec": {
   "display_name": "Python 3",
   "language": "python",
   "name": "python3"
  },
  "language_info": {
   "codemirror_mode": {
    "name": "ipython",
    "version": 3
   },
   "file_extension": ".py",
   "mimetype": "text/x-python",
   "name": "python",
   "nbconvert_exporter": "python",
   "pygments_lexer": "ipython3",
   "version": "3.8.5"
  }
 },
 "nbformat": 4,
 "nbformat_minor": 4
}
